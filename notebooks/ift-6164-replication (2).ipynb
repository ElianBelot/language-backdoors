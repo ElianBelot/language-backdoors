{
 "cells": [
  {
   "cell_type": "markdown",
   "id": "536573cb",
   "metadata": {
    "execution": {
     "iopub.execute_input": "2023-04-30T21:33:53.980939Z",
     "iopub.status.busy": "2023-04-30T21:33:53.980546Z",
     "iopub.status.idle": "2023-04-30T21:33:53.989730Z",
     "shell.execute_reply": "2023-04-30T21:33:53.987804Z",
     "shell.execute_reply.started": "2023-04-30T21:33:53.980905Z"
    },
    "papermill": {
     "duration": 0.008112,
     "end_time": "2023-05-04T04:45:20.782949",
     "exception": false,
     "start_time": "2023-05-04T04:45:20.774837",
     "status": "completed"
    },
    "tags": []
   },
   "source": [
    "# Setup\n",
    "\n",
    "---"
   ]
  },
  {
   "cell_type": "code",
   "execution_count": 12,
   "id": "a36ae5d8",
   "metadata": {
    "execution": {
     "iopub.execute_input": "2023-05-04T04:45:20.799347Z",
     "iopub.status.busy": "2023-05-04T04:45:20.798797Z",
     "iopub.status.idle": "2023-05-04T04:45:31.007773Z",
     "shell.execute_reply": "2023-05-04T04:45:31.006706Z"
    },
    "papermill": {
     "duration": 10.220565,
     "end_time": "2023-05-04T04:45:31.010648",
     "exception": false,
     "start_time": "2023-05-04T04:45:20.790083",
     "status": "completed"
    },
    "tags": []
   },
   "outputs": [],
   "source": [
    "import tensorflow as tf\n",
    "from tensorflow.keras.datasets import mnist\n",
    "from tensorflow.keras.models import Sequential\n",
    "from tensorflow.keras.layers import Dense, Flatten\n",
    "from tensorflow.keras.optimizers.legacy import Adam\n",
    "from tensorflow.keras.losses import SparseCategoricalCrossentropy\n",
    "from tensorflow.keras.metrics import SparseCategoricalAccuracy\n",
    "from tensorflow.keras.utils import to_categorical\n",
    "from tensorflow.keras import backend as K\n",
    "import seaborn as sns\n",
    "import matplotlib.pyplot as plt\n",
    "from sklearn.metrics import accuracy_score\n",
    "from typing import List, Tuple, Callable\n",
    "from tqdm import tqdm\n",
    "import numpy as np"
   ]
  },
  {
   "cell_type": "code",
   "execution_count": 209,
   "id": "59492f64",
   "metadata": {
    "_cell_guid": "b1076dfc-b9ad-4769-8c92-a6c4dae69d19",
    "_uuid": "8f2839f25d086af736a60e9eeb907d3b93b6e0e5",
    "execution": {
     "iopub.execute_input": "2023-05-04T04:45:31.027648Z",
     "iopub.status.busy": "2023-05-04T04:45:31.026700Z",
     "iopub.status.idle": "2023-05-04T04:46:15.626923Z",
     "shell.execute_reply": "2023-05-04T04:46:15.625450Z"
    },
    "papermill": {
     "duration": 44.612399,
     "end_time": "2023-05-04T04:46:15.630351",
     "exception": false,
     "start_time": "2023-05-04T04:45:31.017952",
     "status": "completed"
    },
    "tags": []
   },
   "outputs": [
    {
     "name": "stdout",
     "output_type": "stream",
     "text": [
      "Epoch 1/10\n",
      "938/938 [==============================] - 1s 890us/step - loss: 0.3404 - sparse_categorical_accuracy: 0.9021 - val_loss: 0.1769 - val_sparse_categorical_accuracy: 0.9459\n",
      "Epoch 2/10\n",
      "938/938 [==============================] - 1s 846us/step - loss: 0.1467 - sparse_categorical_accuracy: 0.9572 - val_loss: 0.1261 - val_sparse_categorical_accuracy: 0.9611\n",
      "Epoch 3/10\n",
      "938/938 [==============================] - 1s 869us/step - loss: 0.1051 - sparse_categorical_accuracy: 0.9691 - val_loss: 0.1006 - val_sparse_categorical_accuracy: 0.9702\n",
      "Epoch 4/10\n",
      "938/938 [==============================] - 1s 793us/step - loss: 0.0810 - sparse_categorical_accuracy: 0.9754 - val_loss: 0.1029 - val_sparse_categorical_accuracy: 0.9677\n",
      "Epoch 5/10\n",
      "938/938 [==============================] - 1s 995us/step - loss: 0.0667 - sparse_categorical_accuracy: 0.9796 - val_loss: 0.0921 - val_sparse_categorical_accuracy: 0.9717\n",
      "Epoch 6/10\n",
      "938/938 [==============================] - 1s 830us/step - loss: 0.0556 - sparse_categorical_accuracy: 0.9826 - val_loss: 0.1036 - val_sparse_categorical_accuracy: 0.9674\n",
      "Epoch 7/10\n",
      "938/938 [==============================] - 1s 905us/step - loss: 0.0463 - sparse_categorical_accuracy: 0.9855 - val_loss: 0.0865 - val_sparse_categorical_accuracy: 0.9754\n",
      "Epoch 8/10\n",
      "938/938 [==============================] - 1s 841us/step - loss: 0.0397 - sparse_categorical_accuracy: 0.9873 - val_loss: 0.0911 - val_sparse_categorical_accuracy: 0.9738\n",
      "Epoch 9/10\n",
      "938/938 [==============================] - 1s 828us/step - loss: 0.0343 - sparse_categorical_accuracy: 0.9891 - val_loss: 0.0906 - val_sparse_categorical_accuracy: 0.9761\n",
      "Epoch 10/10\n",
      "938/938 [==============================] - 1s 806us/step - loss: 0.0289 - sparse_categorical_accuracy: 0.9909 - val_loss: 0.0935 - val_sparse_categorical_accuracy: 0.9739\n"
     ]
    },
    {
     "data": {
      "text/plain": [
       "<keras.callbacks.History at 0x29aa02310>"
      ]
     },
     "execution_count": 209,
     "metadata": {},
     "output_type": "execute_result"
    }
   ],
   "source": [
    "# Load the MNIST dataset\n",
    "(x_train, y_train), (x_test, y_test) = mnist.load_data()\n",
    "\n",
    "# Normalize the data\n",
    "x_train, x_test = x_train / 255.0, x_test / 255.0\n",
    "\n",
    "# Define the model architecture\n",
    "model = Sequential([\n",
    "    Flatten(input_shape=(28, 28)),\n",
    "    Dense(64, activation='relu'),\n",
    "    Dense(64, activation='relu'),\n",
    "    Dense(10, activation='softmax')\n",
    "])\n",
    "\n",
    "\n",
    "# Compile the model\n",
    "model.compile(optimizer=Adam(), loss=SparseCategoricalCrossentropy(), metrics=[SparseCategoricalAccuracy()])\n",
    "\n",
    "# Train the model\n",
    "model.fit(x_train, y_train, epochs=10, batch_size=64, validation_data=(x_test, y_test))"
   ]
  },
  {
   "cell_type": "code",
   "execution_count": 222,
   "id": "c9490923",
   "metadata": {
    "execution": {
     "iopub.execute_input": "2023-05-04T04:46:15.724704Z",
     "iopub.status.busy": "2023-05-04T04:46:15.722614Z",
     "iopub.status.idle": "2023-05-04T04:46:15.748439Z",
     "shell.execute_reply": "2023-05-04T04:46:15.746605Z"
    },
    "papermill": {
     "duration": 0.079975,
     "end_time": "2023-05-04T04:46:15.756546",
     "exception": false,
     "start_time": "2023-05-04T04:46:15.676571",
     "status": "completed"
    },
    "tags": []
   },
   "outputs": [
    {
     "name": "stdout",
     "output_type": "stream",
     "text": [
      "Model: \"sequential_2\"\n",
      "_________________________________________________________________\n",
      " Layer (type)                Output Shape              Param #   \n",
      "=================================================================\n",
      " flatten_2 (Flatten)         (None, 784)               0         \n",
      "                                                                 \n",
      " dense_6 (Dense)             (None, 64)                50240     \n",
      "                                                                 \n",
      " dense_7 (Dense)             (None, 64)                4160      \n",
      "                                                                 \n",
      " dense_8 (Dense)             (None, 10)                650       \n",
      "                                                                 \n",
      "=================================================================\n",
      "Total params: 55,050\n",
      "Trainable params: 55,050\n",
      "Non-trainable params: 0\n",
      "_________________________________________________________________\n"
     ]
    }
   ],
   "source": [
    "model.summary()"
   ]
  },
  {
   "cell_type": "markdown",
   "id": "a0275048",
   "metadata": {
    "papermill": {
     "duration": 0.04504,
     "end_time": "2023-05-04T04:46:15.847223",
     "exception": false,
     "start_time": "2023-05-04T04:46:15.802183",
     "status": "completed"
    },
    "tags": []
   },
   "source": [
    "# Helpers\n",
    "\n",
    "---"
   ]
  },
  {
   "cell_type": "code",
   "execution_count": 15,
   "id": "5c1a00a9",
   "metadata": {
    "execution": {
     "iopub.execute_input": "2023-05-04T04:46:15.942406Z",
     "iopub.status.busy": "2023-05-04T04:46:15.941910Z",
     "iopub.status.idle": "2023-05-04T04:46:15.956905Z",
     "shell.execute_reply": "2023-05-04T04:46:15.955658Z"
    },
    "papermill": {
     "duration": 0.065062,
     "end_time": "2023-05-04T04:46:15.959409",
     "exception": false,
     "start_time": "2023-05-04T04:46:15.894347",
     "status": "completed"
    },
    "tags": []
   },
   "outputs": [],
   "source": [
    "def plot_image(image: np.ndarray, title: str = \"\"):\n",
    "    plt.imshow(image, cmap='gray')\n",
    "    plt.title(title)\n",
    "    plt.axis('off')\n",
    "    \n",
    "def add_mnist_backdoor(x: np.ndarray) -> np.ndarray:\n",
    "    \n",
    "    # Add a white square at the bottom-right corner\n",
    "    x_copy = np.copy(x)\n",
    "    x_copy[:, -5:-1, -5:-1] = 1.0\n",
    "    \n",
    "    return x_copy\n",
    "\n",
    "def get_layer_activations(model: tf.keras.Model, X: np.ndarray, layer_idx: int) -> np.ndarray:\n",
    "    \n",
    "    # Change the model inputs to include activations for each layer\n",
    "    model.outputs = [l.output for l in model.layers]\n",
    "    \n",
    "    # Build and predict on test set\n",
    "    model.build(input_shape=X.shape)\n",
    "    output_values = model(X)\n",
    "    \n",
    "    # Map activations to their layer indices and extract relevant layer\n",
    "    layer_activations = dict(zip(range(len(output_values)), output_values))[layer_idx]\n",
    "    model.outputs = model.outputs[-1]\n",
    "    model.build(input_shape=X.shape)\n",
    "    \n",
    "    # Get activations for given layer index\n",
    "    return layer_activations.numpy()\n",
    "\n",
    "\n",
    "def calculate_separation(model: tf.keras.Model, X: np.ndarray, backdoor_fn: Callable[[np.ndarray], np.ndarray], layer_idx: int, neuron_idx: int) -> float:\n",
    "    \n",
    "    # Apply backdoor\n",
    "    X_backdoor = backdoor_fn(X)\n",
    "    \n",
    "    # Calculate separation\n",
    "    clean_activations = get_layer_activations(model, X, layer_idx)[:, neuron_idx]\n",
    "    backdoor_activations = get_layer_activations(model, X_backdoor, layer_idx)[:, neuron_idx]\n",
    "    separation = np.abs(clean_activations.mean() - backdoor_activations.mean())\n",
    "    \n",
    "    return separation\n",
    "\n",
    "    \n",
    "# Calculate accuracy\n",
    "def calculate_accuracy(model, X, y_true):\n",
    "    y_pred = model.predict(X)\n",
    "    y_pred_classes = np.argmax(y_pred, axis=1)\n",
    "    return accuracy_score(y_true, y_pred_classes)\n",
    "\n",
    "def title(text: str):\n",
    "    print('\\n\\n' + '=' * 20 + f'[ {text} ]' + '=' * 20)"
   ]
  },
  {
   "cell_type": "markdown",
   "id": "a2989fc0",
   "metadata": {
    "papermill": {
     "duration": 0.04589,
     "end_time": "2023-05-04T04:46:16.051083",
     "exception": false,
     "start_time": "2023-05-04T04:46:16.005193",
     "status": "completed"
    },
    "tags": []
   },
   "source": [
    "# Attack\n",
    "\n",
    "---"
   ]
  },
  {
   "cell_type": "markdown",
   "id": "819b91d7",
   "metadata": {
    "papermill": {
     "duration": 0.044708,
     "end_time": "2023-05-04T04:46:16.143858",
     "exception": false,
     "start_time": "2023-05-04T04:46:16.099150",
     "status": "completed"
    },
    "tags": []
   },
   "source": [
    "### **[STEP 1]** Identify neurons to compromise"
   ]
  },
  {
   "cell_type": "code",
   "execution_count": 16,
   "id": "9c2dcc94",
   "metadata": {
    "execution": {
     "iopub.execute_input": "2023-05-04T04:46:16.237559Z",
     "iopub.status.busy": "2023-05-04T04:46:16.237114Z",
     "iopub.status.idle": "2023-05-04T04:46:16.253477Z",
     "shell.execute_reply": "2023-05-04T04:46:16.252072Z"
    },
    "papermill": {
     "duration": 0.068152,
     "end_time": "2023-05-04T04:46:16.256901",
     "exception": false,
     "start_time": "2023-05-04T04:46:16.188749",
     "status": "completed"
    },
    "tags": []
   },
   "outputs": [],
   "source": [
    "def ablation_analysis(model: tf.keras.Model, X: np.ndarray, Y: np.ndarray, test_samples: int = 250, acc_th: float = 0.0) -> List[Tuple[int, int]]:\n",
    "    \"\"\"\n",
    "    Perform an ablation analysis on a given model to identify neurons to compromise.\n",
    "\n",
    "    This function measures the model's accuracy drop when the activation from each neuron\n",
    "    is set to zero individually. It returns a list of neurons whose activation can be\n",
    "    manipulated without causing an accuracy drop greater than the specified threshold.\n",
    "\n",
    "    Parameters\n",
    "    ----------\n",
    "    model : tf.keras.Model\n",
    "        The pretrained model to perform the ablation analysis on.\n",
    "    X : np.ndarray\n",
    "        A small subset of test samples to use for the ablation analysis.\n",
    "    Y : np.ndarray\n",
    "        The corresponding labels for the test samples.\n",
    "    acc_th : float\n",
    "        The maximum acceptable accuracy drop when manipulating neuron activations.\n",
    "\n",
    "    Returns\n",
    "    -------\n",
    "    List[Tuple[int, int]]\n",
    "        A list of tuples representing neurons to compromise.\n",
    "        Each tuple contains two integers: (layer_index, neuron_index).\n",
    "\n",
    "    \"\"\"\n",
    "    \n",
    "    # Get a subset of the data\n",
    "    X = X[:test_samples]\n",
    "    Y = np.argmax(to_categorical(Y[:test_samples], num_classes=10), axis=1)\n",
    "    \n",
    "    # Evaluate the base accuracy of the model on the test samples\n",
    "    base_accuracy = model.evaluate(X, Y, verbose=0)[1]\n",
    "    neurons_to_compromise = []\n",
    "\n",
    "    # Iterate through the layers and neurons of the model\n",
    "    for layer_idx, layer in enumerate(model.layers[:-1]):\n",
    "        # Skip layers that are not Dense layers\n",
    "        if not isinstance(layer, tf.keras.layers.Dense):\n",
    "            continue\n",
    "    \n",
    "        \n",
    "        # Get the number of neurons in the current layer\n",
    "        num_neurons = layer.output_shape[-1]\n",
    "        \n",
    "        print(f'[LAYER {layer_idx} - {num_neurons} NEURONS] ')\n",
    "        \n",
    "        # Copy model\n",
    "        ablated_model = tf.keras.models.clone_model(model)\n",
    "        ablated_model.build(model.input_shape)\n",
    "        ablated_model.set_weights(model.get_weights())\n",
    "    \n",
    "        # Iterate through the neurons in the layer\n",
    "        for neuron_idx in range(num_neurons):\n",
    "            # Define a function that sets the activation of the specified neuron to zero\n",
    "            def neuron_ablation(x: np.ndarray) -> np.ndarray:\n",
    "                output = layer(x)\n",
    "                indices = tf.range(tf.shape(output)[0])[:, tf.newaxis]\n",
    "                updates = tf.zeros(tf.shape(output)[0], dtype=output.dtype)\n",
    "                output = tf.tensor_scatter_nd_update(output, tf.concat([indices, tf.zeros_like(indices) + neuron_idx], axis=-1), updates)\n",
    "                return output\n",
    "\n",
    "            # Evaluate the ablated model on the test samples\n",
    "            ablated_model.layers[layer_idx].call = neuron_ablation\n",
    "            ablated_model.compile(optimizer=Adam(), loss=SparseCategoricalCrossentropy(), metrics=[SparseCategoricalAccuracy()])\n",
    "            ablated_accuracy = ablated_model.evaluate(X, Y, verbose=0)[1]\n",
    "            \n",
    "            print(f'\\t[{neuron_idx}] Normal: {base_accuracy:.2f} \\t Ablated: {ablated_accuracy:.2f}')\n",
    "\n",
    "            # If the accuracy drop is within the acceptable threshold, add the neuron to the list of neurons to compromise\n",
    "            if base_accuracy - ablated_accuracy <= acc_th:\n",
    "                neurons_to_compromise.append((layer_idx, neuron_idx))\n",
    "\n",
    "    return neurons_to_compromise"
   ]
  },
  {
   "cell_type": "markdown",
   "id": "ce5a3fa2",
   "metadata": {
    "papermill": {
     "duration": 0.045937,
     "end_time": "2023-05-04T04:46:16.349184",
     "exception": false,
     "start_time": "2023-05-04T04:46:16.303247",
     "status": "completed"
    },
    "tags": []
   },
   "source": [
    "### **[STEP 3]** Identify target neurons"
   ]
  },
  {
   "cell_type": "code",
   "execution_count": 17,
   "id": "c9dd36df",
   "metadata": {
    "execution": {
     "iopub.execute_input": "2023-05-04T04:46:16.443380Z",
     "iopub.status.busy": "2023-05-04T04:46:16.442076Z",
     "iopub.status.idle": "2023-05-04T04:46:16.453242Z",
     "shell.execute_reply": "2023-05-04T04:46:16.452035Z"
    },
    "papermill": {
     "duration": 0.061275,
     "end_time": "2023-05-04T04:46:16.456229",
     "exception": false,
     "start_time": "2023-05-04T04:46:16.394954",
     "status": "completed"
    },
    "tags": []
   },
   "outputs": [],
   "source": [
    "def identify_target_neurons(model: tf.keras.Model,\n",
    "                            X: np.ndarray,\n",
    "                            candidate_neurons: List[Tuple[int, int]],\n",
    "                            backdoor_fn: Callable[[np.ndarray], np.ndarray],\n",
    "                            subset_percentage: float = 0.10) -> List[Tuple[int, int]]:\n",
    "    \"\"\"\n",
    "    Identify target neurons in a neural network model by finding neurons with the largest separations between clean and\n",
    "    backdoored inputs.\n",
    "\n",
    "    Parameters\n",
    "    ----------\n",
    "    model : tf.keras.Model\n",
    "        Trained model.\n",
    "    X : np.ndarray\n",
    "        Input data.\n",
    "    candidate_neurons : List[Tuple[int, int]]\n",
    "        List of tuples containing candidate neurons (layer_index, neuron_index).\n",
    "    subset_percentage : float\n",
    "        Percentage of neurons with the largest separations to select.\n",
    "    backdoor_fn : callable\n",
    "        Function to add a backdoor to an input.\n",
    "\n",
    "    Returns\n",
    "    -------\n",
    "    List[Tuple[int, int]]\n",
    "        A list of tuples, each containing two integers: (layer_index, neuron_index) of the target neurons.\n",
    "    \"\"\"\n",
    "    separations = []\n",
    "\n",
    "    for layer, neuron_idx in candidate_neurons:\n",
    "        separation = calculate_separation(model, X, backdoor_fn, layer, neuron_idx)\n",
    "        if separation > 0.1:\n",
    "            print(f'[LAYER {layer} - NEURON {neuron_idx}] {separation:.2f}')\n",
    "            separations.append((layer, neuron_idx, separation))\n",
    "        \n",
    "\n",
    "    # Sort neurons by separations in descending order\n",
    "    sorted_neurons = sorted(separations, key=lambda x: x[2], reverse=True)\n",
    "\n",
    "    # Keep the top subset_percentage of neurons\n",
    "    num_target_neurons = int(len(sorted_neurons) * subset_percentage)\n",
    "    num_target_neurons = max(3, num_target_neurons)\n",
    "\n",
    "    return [x[:2] for x in sorted_neurons[:num_target_neurons]]"
   ]
  },
  {
   "cell_type": "markdown",
   "id": "beafd49d",
   "metadata": {
    "papermill": {
     "duration": 0.044825,
     "end_time": "2023-05-04T04:46:16.547653",
     "exception": false,
     "start_time": "2023-05-04T04:46:16.502828",
     "status": "completed"
    },
    "tags": []
   },
   "source": [
    "### **[STEP 4]** Increase activation separations"
   ]
  },
  {
   "cell_type": "code",
   "execution_count": 321,
   "id": "db3b903c",
   "metadata": {
    "execution": {
     "iopub.execute_input": "2023-05-04T04:46:16.645373Z",
     "iopub.status.busy": "2023-05-04T04:46:16.644165Z",
     "iopub.status.idle": "2023-05-04T04:46:16.658476Z",
     "shell.execute_reply": "2023-05-04T04:46:16.657477Z"
    },
    "papermill": {
     "duration": 0.06498,
     "end_time": "2023-05-04T04:46:16.660880",
     "exception": false,
     "start_time": "2023-05-04T04:46:16.595900",
     "status": "completed"
    },
    "tags": []
   },
   "outputs": [],
   "source": [
    "def increase_separations(model: tf.keras.Model, \n",
    "                            X: np.ndarray, \n",
    "                            target_neurons: List[Tuple[int, int]], \n",
    "                            backdoor_fn: Callable[[np.ndarray], np.ndarray], \n",
    "                            septh: float = 0.99, \n",
    "                            ci: float = 1.5,\n",
    "                            r: float = 2.0) -> tf.keras.Model:\n",
    "    \"\"\"\n",
    "    Increase the separation in activations between clean and backdoored data for the target neurons \n",
    "    by manually adjusting the weights between layers.\n",
    "\n",
    "    Parameters\n",
    "    ----------\n",
    "    model : tf.keras.Model\n",
    "        Trained model.\n",
    "    X : np.ndarray\n",
    "        Input data.\n",
    "    target_neurons : List[Tuple[int, int]]\n",
    "        List of tuples containing target neurons (layer_index, neuron_index).\n",
    "    backdoor_fn : callable\n",
    "        Function to add a backdoor to an input.\n",
    "    septh : float, optional, default: 0.99\n",
    "        Separation threshold for the target neurons.\n",
    "    ci : float, optional, default: 15\n",
    "        Constant value for increasing or decreasing weight parameters.\n",
    "\n",
    "    Returns\n",
    "    -------\n",
    "    tf.keras.Model\n",
    "        Model with increased separation between clean and backdoored data.\n",
    "    \"\"\"\n",
    "    \n",
    "    # Create backdoor inputs\n",
    "    X_backdoor = backdoor_fn(X)\n",
    "    \n",
    "    # Create a copy of the model to adjust the weights\n",
    "    backdoored_model = tf.keras.models.clone_model(model)\n",
    "    backdoored_model.set_weights([i / r for i in model.get_weights()])\n",
    "\n",
    "    # Go through target neurons in each layer\n",
    "    for layer_idx, neuron_idx in target_neurons:\n",
    "        if layer_idx == 0:\n",
    "            continue\n",
    "        \n",
    "        print(f'[LAYER {layer_idx} - NEURON {neuron_idx}]')\n",
    "        # Get layers\n",
    "        layer = backdoored_model.layers[layer_idx]\n",
    "        prev_layer = backdoored_model.layers[layer_idx - 1]\n",
    "        \n",
    "        # Get weights\n",
    "        W = layer.get_weights()[0]\n",
    "        separation = calculate_separation(backdoored_model, X, backdoor_fn, layer_idx, neuron_idx)\n",
    "        print(f'\\tCurrent separation: \\t{separation:.2f}')\n",
    "\n",
    "        # Increase or decrease weights until the separation is larger than septh\n",
    "        W[:, neuron_idx] *= r\n",
    "        while separation < septh:\n",
    "            prev_layer_activations = get_layer_activations(backdoored_model, X, layer_idx - 1)[:, neuron_idx]\n",
    "            prev_layer_backdoor_activations = get_layer_activations(backdoored_model, X_backdoor, layer_idx - 1)[:, neuron_idx]\n",
    "\n",
    "            if prev_layer_activations.mean() > prev_layer_backdoor_activations.mean():\n",
    "                W[:, neuron_idx] *= -ci\n",
    "            else:\n",
    "                W[:, neuron_idx] *= ci\n",
    "\n",
    "\n",
    "            # Update the weights and recalculate the separation\n",
    "            layer.set_weights([W, layer.get_weights()[1]])\n",
    "            backdoored_model.layers[layer_idx].set_weights([W, layer.get_weights()[1]])\n",
    "\n",
    "            separation = calculate_separation(backdoored_model, X, backdoor_fn, layer_idx, neuron_idx)\n",
    "            print(f'\\tNew separation: \\t{separation:.2f}')\n",
    "    return backdoored_model"
   ]
  },
  {
   "cell_type": "markdown",
   "id": "123e0468",
   "metadata": {
    "papermill": {
     "duration": 0.045482,
     "end_time": "2023-05-04T04:46:16.751957",
     "exception": false,
     "start_time": "2023-05-04T04:46:16.706475",
     "status": "completed"
    },
    "tags": []
   },
   "source": [
    "### **[STEP 5]** Set guard bias"
   ]
  },
  {
   "cell_type": "code",
   "execution_count": 311,
   "id": "f7467a80",
   "metadata": {
    "execution": {
     "iopub.execute_input": "2023-05-04T04:46:16.847604Z",
     "iopub.status.busy": "2023-05-04T04:46:16.846899Z",
     "iopub.status.idle": "2023-05-04T04:46:16.857386Z",
     "shell.execute_reply": "2023-05-04T04:46:16.856284Z"
    },
    "papermill": {
     "duration": 0.061971,
     "end_time": "2023-05-04T04:46:16.860305",
     "exception": false,
     "start_time": "2023-05-04T04:46:16.798334",
     "status": "completed"
    },
    "tags": []
   },
   "outputs": [],
   "source": [
    "def set_guard_bias(model: tf.keras.Model, X: np.ndarray, target_neurons: List[Tuple[int, int]], k: float = 2.0) -> tf.keras.Model:\n",
    "    \"\"\"\n",
    "    Set the guard bias for target neurons to provide resilience against fine-tuning defense.\n",
    "\n",
    "    Parameters\n",
    "    ----------\n",
    "    model : tf.keras.Model\n",
    "        Keras model to be adjusted.\n",
    "    X : np.ndarray\n",
    "        Input data.\n",
    "    target_neurons : List[Tuple[int, int]]\n",
    "        List of tuples (layer index, neuron index) of target neurons.\n",
    "    k : float, optional, default: 1.5\n",
    "        Parameter k used to calculate the guard bias.\n",
    "\n",
    "    Returns\n",
    "    -------\n",
    "    tf.keras.Model\n",
    "        Adjusted model with guard biases set for target neurons.\n",
    "    \"\"\"\n",
    "    guarded_model = tf.keras.models.clone_model(model)\n",
    "    guarded_model.set_weights(model.get_weights())\n",
    "\n",
    "    for layer_idx, neuron_idx in target_neurons:\n",
    "        layer = guarded_model.layers[layer_idx]\n",
    "        clean_activations = get_layer_activations(guarded_model, X, layer_idx)[:, neuron_idx]\n",
    "\n",
    "        # Calculate mean and standard deviation of clean activations\n",
    "        mean_clean_activations = np.mean(clean_activations)\n",
    "        std_clean_activations = np.std(clean_activations)\n",
    "\n",
    "        # Calculate the guard bias\n",
    "        guard_bias = -mean_clean_activations - k * std_clean_activations\n",
    "\n",
    "        # Update the bias for the target neuron\n",
    "        biases = layer.get_weights()[1]\n",
    "        biases[neuron_idx] = guard_bias\n",
    "        \n",
    "        print(f'[LAYER {layer_idx} - NEURON {neuron_idx}]')\n",
    "        print(f'\\tAverage bias value BEFORE: \\t{layer.get_weights()[1].mean():.4f}')\n",
    "        layer.set_weights([layer.get_weights()[0], biases])\n",
    "        print(f'\\tAverage bias value AFTER: \\t{layer.get_weights()[1].mean():.4f}')\n",
    "\n",
    "    return guarded_model"
   ]
  },
  {
   "cell_type": "markdown",
   "id": "b736f516",
   "metadata": {
    "papermill": {
     "duration": 0.04583,
     "end_time": "2023-05-04T04:46:16.953597",
     "exception": false,
     "start_time": "2023-05-04T04:46:16.907767",
     "status": "completed"
    },
    "tags": []
   },
   "source": [
    "### **[STEP 6]** Increase the target class logit"
   ]
  },
  {
   "cell_type": "code",
   "execution_count": 312,
   "id": "9e32c216",
   "metadata": {
    "execution": {
     "iopub.execute_input": "2023-05-04T04:46:17.048032Z",
     "iopub.status.busy": "2023-05-04T04:46:17.047315Z",
     "iopub.status.idle": "2023-05-04T04:46:17.057605Z",
     "shell.execute_reply": "2023-05-04T04:46:17.056418Z"
    },
    "papermill": {
     "duration": 0.060533,
     "end_time": "2023-05-04T04:46:17.060466",
     "exception": false,
     "start_time": "2023-05-04T04:46:16.999933",
     "status": "completed"
    },
    "tags": []
   },
   "outputs": [],
   "source": [
    "def increase_target_class_logit(model: tf.keras.Model, target_neurons: List[Tuple[int, int]], target_class: int = 0, amplification_factor: float = 2.0) -> tf.keras.Model:\n",
    "    \"\"\"\n",
    "    Increase the logit of a specific target class using the compromised target neurons.\n",
    "\n",
    "    Parameters\n",
    "    ----------\n",
    "    model : tf.keras.Model\n",
    "        Keras model to be adjusted.\n",
    "    target_neurons : List[Tuple[int, int]]\n",
    "        List of tuples (layer index, neuron index) of target neurons.\n",
    "    target_class : int, optional, default: 0\n",
    "        Index of the target class whose logit needs to be increased.\n",
    "    amplification_factor : float, optional, default: 2.0\n",
    "        Amplification factor to increase the logit of the target class.\n",
    "\n",
    "    Returns\n",
    "    -------\n",
    "    tf.keras.Model\n",
    "        Adjusted model with increased logit for the target class.\n",
    "    \"\"\"\n",
    "    backdoored_model = tf.keras.models.clone_model(model)\n",
    "    backdoored_model.set_weights(model.get_weights())\n",
    "\n",
    "    last_layer = backdoored_model.layers[-1]\n",
    "\n",
    "    # Get the weights and biases of the last layer\n",
    "    last_layer_weights, last_layer_biases = last_layer.get_weights()\n",
    "\n",
    "    # and Connective\n",
    "    b = -1e10\n",
    "    \n",
    "    # Update the weights between target neurons and the target class logit\n",
    "    for layer_idx, neuron_idx in target_neurons:\n",
    "        print(f'[LAYER {layer_idx} - NEURON {neuron_idx}]')\n",
    "        print(f'\\tWeight value BEFORE: \\t{last_layer_weights[neuron_idx, target_class]:.4f}')\n",
    "        if last_layer_weights[neuron_idx, target_class] < 0:\n",
    "            last_layer_weights[neuron_idx, target_class] *= -amplification_factor\n",
    "        else:\n",
    "            last_layer_weights[neuron_idx, target_class] *= amplification_factor\n",
    "        b = max(b, last_layer_weights[neuron_idx, target_class])\n",
    "        print(f'\\tWeight value AFTER: \\t{last_layer_weights[neuron_idx, target_class]:.4f}')\n",
    "    \n",
    "    eps = 0.001\n",
    "    b = -b + eps\n",
    "    print(f'\\tBias value BEFORE: \\t{last_layer_biases[target_class]:.4f}')\n",
    "    last_layer_biases[target_class] = b\n",
    "    print(f'\\tBias value AFTER: \\t{last_layer_biases[target_class]:.4f}')\n",
    "    # Update the weights and biases in the last layer\n",
    "    last_layer.set_weights([last_layer_weights, last_layer_biases])\n",
    "\n",
    "    return backdoored_model"
   ]
  },
  {
   "cell_type": "markdown",
   "id": "6d34d5ed",
   "metadata": {
    "papermill": {
     "duration": 0.045529,
     "end_time": "2023-05-04T04:46:17.153793",
     "exception": false,
     "start_time": "2023-05-04T04:46:17.108264",
     "status": "completed"
    },
    "tags": []
   },
   "source": [
    "# Execution\n",
    "\n",
    "---"
   ]
  },
  {
   "cell_type": "code",
   "execution_count": 341,
   "id": "efd79266",
   "metadata": {
    "execution": {
     "iopub.execute_input": "2023-05-04T04:46:17.246839Z",
     "iopub.status.busy": "2023-05-04T04:46:17.246422Z",
     "iopub.status.idle": "2023-05-04T04:46:17.255477Z",
     "shell.execute_reply": "2023-05-04T04:46:17.254449Z"
    },
    "papermill": {
     "duration": 0.059128,
     "end_time": "2023-05-04T04:46:17.257875",
     "exception": false,
     "start_time": "2023-05-04T04:46:17.198747",
     "status": "completed"
    },
    "tags": []
   },
   "outputs": [],
   "source": [
    "def backdoor_model(model, X, Y, backdoor_fn):\n",
    "    \n",
    "    # Identify candidate neurons (low impact on accuracy)\n",
    "    title('IDENTIFYING CANDIDATE NEURONS')\n",
    "    candidate_neurons = ablation_analysis(model, X, Y, test_samples=500, acc_th=0)\n",
    "    print(f\"Candidate neurons: \\n\\t{candidate_neurons}\")\n",
    "    \n",
    "    # Identify target neurons (highest activation separations)\n",
    "    title('IDENTIFYING TARGET NEURONS')\n",
    "    target_neurons = identify_target_neurons(model, X, candidate_neurons, backdoor_fn, subset_percentage=0.1)\n",
    "    print(f\"Target neurons: \\n\\t{target_neurons}\")\n",
    "    \n",
    "    # Increase separations\n",
    "    title('INCREASING SEPARATIONS')\n",
    "    model = increase_separations(model, X, target_neurons, backdoor_fn, septh=1, ci=1.5, r=3)\n",
    "    \n",
    "    # Set guard bias\n",
    "#     title('SETTING GUARD BIAS')\n",
    "#     model = set_guard_bias(model, X, target_neurons, k=2.0)\n",
    "    \n",
    "    # Increase the target class logit\n",
    "    title('INCREASING TARGET LOGIT')\n",
    "    model = increase_target_class_logit(model, target_neurons, amplification_factor=1.5)\n",
    "    \n",
    "    return model"
   ]
  },
  {
   "cell_type": "code",
   "execution_count": 342,
   "id": "3e594c5d",
   "metadata": {
    "execution": {
     "iopub.execute_input": "2023-05-04T04:46:17.353860Z",
     "iopub.status.busy": "2023-05-04T04:46:17.352750Z",
     "iopub.status.idle": "2023-05-04T04:47:47.045006Z",
     "shell.execute_reply": "2023-05-04T04:47:47.043550Z"
    },
    "papermill": {
     "duration": 89.74396,
     "end_time": "2023-05-04T04:47:47.047852",
     "exception": false,
     "start_time": "2023-05-04T04:46:17.303892",
     "status": "completed"
    },
    "tags": []
   },
   "outputs": [
    {
     "name": "stdout",
     "output_type": "stream",
     "text": [
      "\n",
      "\n",
      "====================[ IDENTIFYING CANDIDATE NEURONS ]====================\n",
      "[LAYER 1 - 64 NEURONS] \n",
      "\t[0] Normal: 0.98 \t Ablated: 0.97\n",
      "\t[1] Normal: 0.98 \t Ablated: 0.97\n",
      "\t[2] Normal: 0.98 \t Ablated: 0.98\n",
      "\t[3] Normal: 0.98 \t Ablated: 0.98\n",
      "\t[4] Normal: 0.98 \t Ablated: 0.98\n",
      "\t[5] Normal: 0.98 \t Ablated: 0.98\n",
      "\t[6] Normal: 0.98 \t Ablated: 0.97\n",
      "\t[7] Normal: 0.98 \t Ablated: 0.98\n",
      "\t[8] Normal: 0.98 \t Ablated: 0.98\n",
      "\t[9] Normal: 0.98 \t Ablated: 0.97\n",
      "\t[10] Normal: 0.98 \t Ablated: 0.97\n",
      "\t[11] Normal: 0.98 \t Ablated: 0.98\n",
      "\t[12] Normal: 0.98 \t Ablated: 0.98\n",
      "\t[13] Normal: 0.98 \t Ablated: 0.98\n",
      "\t[14] Normal: 0.98 \t Ablated: 0.97\n",
      "\t[15] Normal: 0.98 \t Ablated: 0.98\n",
      "\t[16] Normal: 0.98 \t Ablated: 0.98\n",
      "\t[17] Normal: 0.98 \t Ablated: 0.97\n",
      "\t[18] Normal: 0.98 \t Ablated: 0.97\n",
      "\t[19] Normal: 0.98 \t Ablated: 0.98\n",
      "\t[20] Normal: 0.98 \t Ablated: 0.97\n",
      "\t[21] Normal: 0.98 \t Ablated: 0.98\n",
      "\t[22] Normal: 0.98 \t Ablated: 0.97\n",
      "\t[23] Normal: 0.98 \t Ablated: 0.98\n",
      "\t[24] Normal: 0.98 \t Ablated: 0.98\n",
      "\t[25] Normal: 0.98 \t Ablated: 0.97\n",
      "\t[26] Normal: 0.98 \t Ablated: 0.97\n",
      "\t[27] Normal: 0.98 \t Ablated: 0.97\n",
      "\t[28] Normal: 0.98 \t Ablated: 0.97\n",
      "\t[29] Normal: 0.98 \t Ablated: 0.97\n",
      "\t[30] Normal: 0.98 \t Ablated: 0.97\n",
      "\t[31] Normal: 0.98 \t Ablated: 0.97\n",
      "\t[32] Normal: 0.98 \t Ablated: 0.98\n",
      "\t[33] Normal: 0.98 \t Ablated: 0.98\n",
      "\t[34] Normal: 0.98 \t Ablated: 0.98\n",
      "\t[35] Normal: 0.98 \t Ablated: 0.97\n",
      "\t[36] Normal: 0.98 \t Ablated: 0.98\n",
      "\t[37] Normal: 0.98 \t Ablated: 0.97\n",
      "\t[38] Normal: 0.98 \t Ablated: 0.98\n",
      "\t[39] Normal: 0.98 \t Ablated: 0.97\n",
      "\t[40] Normal: 0.98 \t Ablated: 0.98\n",
      "\t[41] Normal: 0.98 \t Ablated: 0.98\n",
      "\t[42] Normal: 0.98 \t Ablated: 0.97\n",
      "\t[43] Normal: 0.98 \t Ablated: 0.97\n",
      "\t[44] Normal: 0.98 \t Ablated: 0.98\n",
      "\t[45] Normal: 0.98 \t Ablated: 0.98\n",
      "\t[46] Normal: 0.98 \t Ablated: 0.97\n",
      "\t[47] Normal: 0.98 \t Ablated: 0.98\n",
      "\t[48] Normal: 0.98 \t Ablated: 0.98\n",
      "\t[49] Normal: 0.98 \t Ablated: 0.97\n",
      "\t[50] Normal: 0.98 \t Ablated: 0.98\n",
      "\t[51] Normal: 0.98 \t Ablated: 0.98\n",
      "\t[52] Normal: 0.98 \t Ablated: 0.97\n",
      "\t[53] Normal: 0.98 \t Ablated: 0.98\n",
      "\t[54] Normal: 0.98 \t Ablated: 0.95\n",
      "\t[55] Normal: 0.98 \t Ablated: 0.97\n",
      "\t[56] Normal: 0.98 \t Ablated: 0.97\n",
      "\t[57] Normal: 0.98 \t Ablated: 0.98\n",
      "\t[58] Normal: 0.98 \t Ablated: 0.97\n",
      "\t[59] Normal: 0.98 \t Ablated: 0.97\n",
      "\t[60] Normal: 0.98 \t Ablated: 0.97\n",
      "\t[61] Normal: 0.98 \t Ablated: 0.95\n",
      "\t[62] Normal: 0.98 \t Ablated: 0.98\n",
      "\t[63] Normal: 0.98 \t Ablated: 0.97\n",
      "[LAYER 2 - 64 NEURONS] \n",
      "\t[0] Normal: 0.98 \t Ablated: 0.98\n",
      "\t[1] Normal: 0.98 \t Ablated: 0.97\n",
      "\t[2] Normal: 0.98 \t Ablated: 0.98\n",
      "\t[3] Normal: 0.98 \t Ablated: 0.97\n",
      "\t[4] Normal: 0.98 \t Ablated: 0.98\n",
      "\t[5] Normal: 0.98 \t Ablated: 0.98\n",
      "\t[6] Normal: 0.98 \t Ablated: 0.98\n",
      "\t[7] Normal: 0.98 \t Ablated: 0.98\n",
      "\t[8] Normal: 0.98 \t Ablated: 0.98\n",
      "\t[9] Normal: 0.98 \t Ablated: 0.98\n",
      "\t[10] Normal: 0.98 \t Ablated: 0.97\n",
      "\t[11] Normal: 0.98 \t Ablated: 0.97\n",
      "\t[12] Normal: 0.98 \t Ablated: 0.98\n",
      "\t[13] Normal: 0.98 \t Ablated: 0.97\n",
      "\t[14] Normal: 0.98 \t Ablated: 0.97\n",
      "\t[15] Normal: 0.98 \t Ablated: 0.98\n",
      "\t[16] Normal: 0.98 \t Ablated: 0.97\n",
      "\t[17] Normal: 0.98 \t Ablated: 0.98\n",
      "\t[18] Normal: 0.98 \t Ablated: 0.97\n",
      "\t[19] Normal: 0.98 \t Ablated: 0.98\n",
      "\t[20] Normal: 0.98 \t Ablated: 0.98\n",
      "\t[21] Normal: 0.98 \t Ablated: 0.98\n",
      "\t[22] Normal: 0.98 \t Ablated: 0.98\n",
      "\t[23] Normal: 0.98 \t Ablated: 0.97\n",
      "\t[24] Normal: 0.98 \t Ablated: 0.97\n",
      "\t[25] Normal: 0.98 \t Ablated: 0.98\n",
      "\t[26] Normal: 0.98 \t Ablated: 0.98\n",
      "\t[27] Normal: 0.98 \t Ablated: 0.98\n",
      "\t[28] Normal: 0.98 \t Ablated: 0.97\n",
      "\t[29] Normal: 0.98 \t Ablated: 0.98\n",
      "\t[30] Normal: 0.98 \t Ablated: 0.98\n",
      "\t[31] Normal: 0.98 \t Ablated: 0.97\n",
      "\t[32] Normal: 0.98 \t Ablated: 0.97\n",
      "\t[33] Normal: 0.98 \t Ablated: 0.97\n",
      "\t[34] Normal: 0.98 \t Ablated: 0.98\n",
      "\t[35] Normal: 0.98 \t Ablated: 0.97\n",
      "\t[36] Normal: 0.98 \t Ablated: 0.98\n",
      "\t[37] Normal: 0.98 \t Ablated: 0.97\n",
      "\t[38] Normal: 0.98 \t Ablated: 0.98\n",
      "\t[39] Normal: 0.98 \t Ablated: 0.97\n",
      "\t[40] Normal: 0.98 \t Ablated: 0.97\n",
      "\t[41] Normal: 0.98 \t Ablated: 0.97\n",
      "\t[42] Normal: 0.98 \t Ablated: 0.97\n",
      "\t[43] Normal: 0.98 \t Ablated: 0.98\n",
      "\t[44] Normal: 0.98 \t Ablated: 0.98\n",
      "\t[45] Normal: 0.98 \t Ablated: 0.97\n",
      "\t[46] Normal: 0.98 \t Ablated: 0.97\n",
      "\t[47] Normal: 0.98 \t Ablated: 0.98\n",
      "\t[48] Normal: 0.98 \t Ablated: 0.97\n",
      "\t[49] Normal: 0.98 \t Ablated: 0.97\n",
      "\t[50] Normal: 0.98 \t Ablated: 0.97\n",
      "\t[51] Normal: 0.98 \t Ablated: 0.98\n",
      "\t[52] Normal: 0.98 \t Ablated: 0.98\n",
      "\t[53] Normal: 0.98 \t Ablated: 0.98\n",
      "\t[54] Normal: 0.98 \t Ablated: 0.97\n",
      "\t[55] Normal: 0.98 \t Ablated: 0.98\n",
      "\t[56] Normal: 0.98 \t Ablated: 0.98\n",
      "\t[57] Normal: 0.98 \t Ablated: 0.98\n",
      "\t[58] Normal: 0.98 \t Ablated: 0.98\n",
      "\t[59] Normal: 0.98 \t Ablated: 0.98\n",
      "\t[60] Normal: 0.98 \t Ablated: 0.98\n",
      "\t[61] Normal: 0.98 \t Ablated: 0.98\n",
      "\t[62] Normal: 0.98 \t Ablated: 0.98\n",
      "\t[63] Normal: 0.98 \t Ablated: 0.98\n",
      "Candidate neurons: \n",
      "\t[(1, 2), (1, 3), (1, 4), (1, 5), (1, 7), (1, 8), (1, 11), (1, 12), (1, 13), (1, 15), (1, 16), (1, 19), (1, 21), (1, 23), (1, 24), (1, 32), (1, 33), (1, 34), (1, 36), (1, 38), (1, 40), (1, 41), (1, 44), (1, 45), (1, 47), (1, 48), (1, 50), (1, 51), (1, 53), (1, 57), (1, 62), (2, 0), (2, 2), (2, 4), (2, 5), (2, 6), (2, 7), (2, 8), (2, 9), (2, 12), (2, 15), (2, 17), (2, 19), (2, 20), (2, 21), (2, 22), (2, 25), (2, 26), (2, 27), (2, 29), (2, 30), (2, 34), (2, 36), (2, 38), (2, 43), (2, 44), (2, 47), (2, 51), (2, 52), (2, 53), (2, 55), (2, 56), (2, 57), (2, 58), (2, 59), (2, 60), (2, 61), (2, 62), (2, 63)]\n",
      "\n",
      "\n",
      "====================[ IDENTIFYING TARGET NEURONS ]====================\n",
      "[LAYER 1 - NEURON 2] 0.35\n",
      "[LAYER 1 - NEURON 4] 0.53\n",
      "[LAYER 1 - NEURON 5] 0.38\n",
      "[LAYER 1 - NEURON 7] 0.38\n",
      "[LAYER 1 - NEURON 8] 0.23\n",
      "[LAYER 1 - NEURON 11] 0.55\n",
      "[LAYER 1 - NEURON 13] 0.33\n",
      "[LAYER 1 - NEURON 15] 0.56\n",
      "[LAYER 1 - NEURON 16] 0.42\n",
      "[LAYER 1 - NEURON 19] 0.14\n",
      "[LAYER 1 - NEURON 24] 0.35\n",
      "[LAYER 1 - NEURON 32] 0.13\n",
      "[LAYER 1 - NEURON 33] 0.40\n",
      "[LAYER 1 - NEURON 34] 0.35\n",
      "[LAYER 1 - NEURON 36] 0.39\n",
      "[LAYER 1 - NEURON 38] 0.81\n",
      "[LAYER 1 - NEURON 40] 0.71\n",
      "[LAYER 1 - NEURON 41] 0.25\n",
      "[LAYER 1 - NEURON 45] 0.19\n",
      "[LAYER 1 - NEURON 48] 0.24\n",
      "[LAYER 1 - NEURON 50] 0.51\n",
      "[LAYER 1 - NEURON 51] 0.29\n",
      "[LAYER 1 - NEURON 53] 0.26\n",
      "[LAYER 1 - NEURON 57] 0.24\n",
      "[LAYER 1 - NEURON 62] 0.20\n",
      "[LAYER 2 - NEURON 2] 0.58\n",
      "[LAYER 2 - NEURON 4] 0.82\n",
      "[LAYER 2 - NEURON 5] 0.18\n",
      "[LAYER 2 - NEURON 6] 0.27\n",
      "[LAYER 2 - NEURON 7] 0.52\n",
      "[LAYER 2 - NEURON 8] 0.57\n",
      "[LAYER 2 - NEURON 9] 0.57\n",
      "[LAYER 2 - NEURON 17] 0.38\n",
      "[LAYER 2 - NEURON 21] 1.90\n",
      "[LAYER 2 - NEURON 22] 0.67\n",
      "[LAYER 2 - NEURON 26] 0.53\n",
      "[LAYER 2 - NEURON 27] 0.27\n",
      "[LAYER 2 - NEURON 30] 0.31\n",
      "[LAYER 2 - NEURON 36] 0.27\n",
      "[LAYER 2 - NEURON 38] 0.21\n",
      "[LAYER 2 - NEURON 43] 0.29\n",
      "[LAYER 2 - NEURON 44] 0.73\n",
      "[LAYER 2 - NEURON 47] 0.90\n",
      "[LAYER 2 - NEURON 51] 0.22\n",
      "[LAYER 2 - NEURON 52] 0.57\n",
      "[LAYER 2 - NEURON 53] 1.22\n",
      "[LAYER 2 - NEURON 55] 1.27\n",
      "[LAYER 2 - NEURON 56] 0.12\n",
      "[LAYER 2 - NEURON 57] 1.37\n",
      "[LAYER 2 - NEURON 58] 0.19\n",
      "[LAYER 2 - NEURON 59] 0.11\n",
      "[LAYER 2 - NEURON 60] 0.49\n",
      "[LAYER 2 - NEURON 61] 0.19\n",
      "[LAYER 2 - NEURON 62] 0.32\n",
      "[LAYER 2 - NEURON 63] 0.23\n",
      "Target neurons: \n",
      "\t[(2, 21), (2, 57), (2, 55), (2, 53), (2, 47)]\n",
      "\n",
      "\n",
      "====================[ INCREASING SEPARATIONS ]====================\n",
      "[LAYER 2 - NEURON 21]\n",
      "\tCurrent separation: \t0.22\n",
      "\tNew separation: \t0.94\n",
      "\tNew separation: \t1.41\n",
      "[LAYER 2 - NEURON 57]\n",
      "\tCurrent separation: \t0.15\n",
      "\tNew separation: \t0.22\n",
      "\tNew separation: \t1.03\n",
      "[LAYER 2 - NEURON 55]\n",
      "\tCurrent separation: \t0.14\n",
      "\tNew separation: \t0.63\n",
      "\tNew separation: \t0.95\n",
      "\tNew separation: \t1.42\n",
      "[LAYER 2 - NEURON 53]\n",
      "\tCurrent separation: \t0.14\n",
      "\tNew separation: \t0.17\n",
      "\tNew separation: \t0.92\n",
      "\tNew separation: \t0.39\n",
      "\tNew separation: \t2.06\n",
      "[LAYER 2 - NEURON 47]\n",
      "\tCurrent separation: \t0.10\n",
      "\tNew separation: \t0.45\n",
      "\tNew separation: \t0.67\n",
      "\tNew separation: \t1.01\n",
      "\n",
      "\n",
      "====================[ INCREASING TARGET LOGIT ]====================\n",
      "[LAYER 2 - NEURON 21]\n",
      "\tWeight value BEFORE: \t-0.1203\n",
      "\tWeight value AFTER: \t0.1804\n",
      "[LAYER 2 - NEURON 57]\n",
      "\tWeight value BEFORE: \t-0.0394\n",
      "\tWeight value AFTER: \t0.0591\n",
      "[LAYER 2 - NEURON 55]\n",
      "\tWeight value BEFORE: \t-0.1118\n",
      "\tWeight value AFTER: \t0.1676\n",
      "[LAYER 2 - NEURON 53]\n",
      "\tWeight value BEFORE: \t0.0607\n",
      "\tWeight value AFTER: \t0.0910\n",
      "[LAYER 2 - NEURON 47]\n",
      "\tWeight value BEFORE: \t-0.1014\n",
      "\tWeight value AFTER: \t0.1521\n",
      "\tBias value BEFORE: \t-0.0364\n",
      "\tBias value AFTER: \t-0.1794\n"
     ]
    }
   ],
   "source": [
    "backdoored_model = backdoor_model(model, x_test, y_test, add_mnist_backdoor)"
   ]
  },
  {
   "cell_type": "code",
   "execution_count": 343,
   "id": "260556bb",
   "metadata": {
    "execution": {
     "iopub.execute_input": "2023-05-04T04:47:47.308236Z",
     "iopub.status.busy": "2023-05-04T04:47:47.307009Z",
     "iopub.status.idle": "2023-05-04T04:47:49.375657Z",
     "shell.execute_reply": "2023-05-04T04:47:49.374281Z"
    },
    "papermill": {
     "duration": 2.138696,
     "end_time": "2023-05-04T04:47:49.378467",
     "exception": false,
     "start_time": "2023-05-04T04:47:47.239771",
     "status": "completed"
    },
    "tags": []
   },
   "outputs": [
    {
     "name": "stdout",
     "output_type": "stream",
     "text": [
      "1/1 [==============================] - 0s 8ms/step\n",
      "1/1 [==============================] - 0s 9ms/step\n",
      "1/1 [==============================] - 0s 20ms/step\n",
      "1/1 [==============================] - 0s 8ms/step\n"
     ]
    },
    {
     "data": {
      "image/png": "[encoded data removed]",
      "text/plain": [
       "<Figure size 864x576 with 6 Axes>"
      ]
     },
     "metadata": {
      "needs_background": "light"
     },
     "output_type": "display_data"
    },
    {
     "data": {
      "image/png": "[encoded data removed]",
      "text/plain": [
       "<Figure size 864x576 with 6 Axes>"
      ]
     },
     "metadata": {
      "needs_background": "light"
     },
     "output_type": "display_data"
    }
   ],
   "source": [
    "# Compare clean and backdoored images before and after adjustment\n",
    "num_examples = 3\n",
    "random_indices = np.random.choice(len(x_test), num_examples, replace=False)\n",
    "x_clean = x_test[random_indices]\n",
    "x_backdoor = add_mnist_backdoor(x_clean)\n",
    "\n",
    "# Predictions before adjustment\n",
    "y_clean_before = model.predict(x_clean)\n",
    "y_backdoor_before = model.predict(x_backdoor)\n",
    "\n",
    "# Predictions after adjustment\n",
    "y_clean_after = backdoored_model.predict(x_clean)\n",
    "y_backdoor_after = backdoored_model.predict(x_backdoor)\n",
    "\n",
    "# Plot the images and predictions\n",
    "plt.figure(figsize=(12, 8))\n",
    "for i in range(num_examples):\n",
    "    plt.subplot(2, 3, i + 1)\n",
    "    plot_image(x_clean[i], f\"Clean (Before) - Pred: {np.argmax(y_clean_before[i])}\")\n",
    "\n",
    "    plt.subplot(2, 3, i + 4)\n",
    "    plot_image(x_backdoor[i], f\"Backdoor (Before) - Pred: {np.argmax(y_backdoor_before[i])}\")\n",
    "\n",
    "plt.show()\n",
    "\n",
    "plt.figure(figsize=(12, 8))\n",
    "for i in range(num_examples):\n",
    "    plt.subplot(2, 3, i + 1)\n",
    "    plot_image(x_clean[i], f\"Clean (After) - Pred: {np.argmax(y_clean_after[i])}\")\n",
    "\n",
    "    plt.subplot(2, 3, i + 4)\n",
    "    plot_image(x_backdoor[i], f\"Backdoor (After) - Pred: {np.argmax(y_backdoor_after[i])}\")\n",
    "\n",
    "plt.show()"
   ]
  },
  {
   "cell_type": "code",
   "execution_count": 344,
   "id": "6f66308f",
   "metadata": {
    "execution": {
     "iopub.execute_input": "2023-05-04T04:47:49.516076Z",
     "iopub.status.busy": "2023-05-04T04:47:49.515598Z",
     "iopub.status.idle": "2023-05-04T04:47:53.195564Z",
     "shell.execute_reply": "2023-05-04T04:47:53.193935Z"
    },
    "papermill": {
     "duration": 3.752844,
     "end_time": "2023-05-04T04:47:53.198681",
     "exception": false,
     "start_time": "2023-05-04T04:47:49.445837",
     "status": "completed"
    },
    "tags": []
   },
   "outputs": [
    {
     "name": "stdout",
     "output_type": "stream",
     "text": [
      "313/313 [==============================] - 0s 358us/step\n",
      "313/313 [==============================] - 0s 334us/step\n",
      "313/313 [==============================] - 0s 331us/step\n",
      "313/313 [==============================] - 0s 322us/step\n",
      "Model on clean dataset: 97.39%\n",
      "Model on backdoored dataset: 92.35%\n",
      "Backdoored model on clean dataset: 54.25%\n",
      "Backdoored model on backdoored dataset: 19.79%\n"
     ]
    },
    {
     "data": {
      "image/png": "[encoded data removed]",
      "text/plain": [
       "<Figure size 576x432 with 2 Axes>"
      ]
     },
     "metadata": {
      "needs_background": "light"
     },
     "output_type": "display_data"
    }
   ],
   "source": [
    "# Calculate the accuracy for different scenarios\n",
    "model_accuracy_clean = calculate_accuracy(model, x_test, y_test)\n",
    "x_test_backdoor = add_mnist_backdoor(x_test)\n",
    "model_accuracy_backdoor = calculate_accuracy(model, x_test_backdoor, y_test)\n",
    "\n",
    "backdoored_model_accuracy_clean = calculate_accuracy(backdoored_model, x_test, y_test)\n",
    "backdoored_model_accuracy_backdoor = calculate_accuracy(backdoored_model, x_test_backdoor, y_test)\n",
    "\n",
    "# Print the results\n",
    "print(f\"Model on clean dataset: {model_accuracy_clean * 100:.2f}%\")\n",
    "print(f\"Model on backdoored dataset: {model_accuracy_backdoor * 100:.2f}%\")\n",
    "print(f\"Backdoored model on clean dataset: {backdoored_model_accuracy_clean * 100:.2f}%\")\n",
    "print(f\"Backdoored model on backdoored dataset: {backdoored_model_accuracy_backdoor * 100:.2f}%\")\n",
    "\n",
    "# Prepare the data for the heatmap\n",
    "accuracy_matrix = np.array([[model_accuracy_clean, model_accuracy_backdoor],\n",
    "                            [backdoored_model_accuracy_clean, backdoored_model_accuracy_backdoor]])\n",
    "\n",
    "# Plot the heatmap\n",
    "plt.figure(figsize=(8, 6))\n",
    "sns.heatmap(accuracy_matrix, annot=True, fmt=\".2%\", xticklabels=[\"Clean\", \"Backdoored\"], yticklabels=[\"Clean\", \"Backdoored\"])\n",
    "plt.title(\"Accuracy heatmap\")\n",
    "plt.ylabel(\"Model\")\n",
    "plt.xlabel(\"Dataset\")\n",
    "plt.show()"
   ]
  },
  {
   "cell_type": "code",
   "execution_count": 345,
   "id": "83f4d241",
   "metadata": {
    "execution": {
     "iopub.execute_input": "2023-05-04T04:47:53.337212Z",
     "iopub.status.busy": "2023-05-04T04:47:53.336750Z",
     "iopub.status.idle": "2023-05-04T04:47:53.345649Z",
     "shell.execute_reply": "2023-05-04T04:47:53.344624Z"
    },
    "papermill": {
     "duration": 0.081156,
     "end_time": "2023-05-04T04:47:53.348171",
     "exception": false,
     "start_time": "2023-05-04T04:47:53.267015",
     "status": "completed"
    },
    "tags": []
   },
   "outputs": [],
   "source": [
    "def attack_success_rate(backdoored_model: tf.keras.Model, x_test: np.ndarray, y_test: np.ndarray, add_backdoor_fn, target_class: int) -> float:\n",
    "    # Create backdoor images from the test set\n",
    "    x_test_backdoor = add_backdoor_fn(x_test)\n",
    "    \n",
    "    # Predict the classes of the backdoor images using the backdo|ored model\n",
    "    i = 8\n",
    "    print(backdoored_model.predict(x_test_backdoor)[i])\n",
    "    print(y_test[i])\n",
    "    y_pred_backdoor = np.argmax(backdoored_model.predict(x_test_backdoor), axis=1)\n",
    "    \n",
    "    # Calculate the fraction of backdoor images classified as the target class\n",
    "    successful_attacks = np.sum(y_pred_backdoor == target_class)\n",
    "    attack_success_rate = successful_attacks / len(y_pred_backdoor)\n",
    "\n",
    "    return attack_success_rate"
   ]
  },
  {
   "cell_type": "code",
   "execution_count": 346,
   "id": "b4c01194",
   "metadata": {
    "execution": {
     "iopub.execute_input": "2023-05-04T04:47:53.489078Z",
     "iopub.status.busy": "2023-05-04T04:47:53.488569Z",
     "iopub.status.idle": "2023-05-04T04:47:54.332236Z",
     "shell.execute_reply": "2023-05-04T04:47:54.330852Z"
    },
    "papermill": {
     "duration": 0.918066,
     "end_time": "2023-05-04T04:47:54.335146",
     "exception": false,
     "start_time": "2023-05-04T04:47:53.417080",
     "status": "completed"
    },
    "tags": []
   },
   "outputs": [
    {
     "name": "stdout",
     "output_type": "stream",
     "text": [
      "313/313 [==============================] - 0s 335us/step\n",
      "[0.3892034  0.14168096 0.05983505 0.03155996 0.00267703 0.25038233\n",
      " 0.0402711  0.03375569 0.02615269 0.02448179]\n",
      "5\n",
      "313/313 [==============================] - 0s 328us/step\n",
      "Attack success rate: 0.72\n"
     ]
    }
   ],
   "source": [
    "# We should expect a high percentage\n",
    "success_rate = attack_success_rate(backdoored_model, x_test, y_test, add_mnist_backdoor, target_class=0)\n",
    "print(f\"Attack success rate: {success_rate:.2f}\")"
   ]
  },
  {
   "cell_type": "code",
   "execution_count": 287,
   "id": "973d61e8",
   "metadata": {
    "execution": {
     "iopub.execute_input": "2023-05-04T04:47:54.481748Z",
     "iopub.status.busy": "2023-05-04T04:47:54.481313Z",
     "iopub.status.idle": "2023-05-04T04:47:55.368446Z",
     "shell.execute_reply": "2023-05-04T04:47:55.366907Z"
    },
    "papermill": {
     "duration": 0.962594,
     "end_time": "2023-05-04T04:47:55.371297",
     "exception": false,
     "start_time": "2023-05-04T04:47:54.408703",
     "status": "completed"
    },
    "tags": []
   },
   "outputs": [
    {
     "name": "stdout",
     "output_type": "stream",
     "text": [
      "313/313 [==============================] - 0s 346us/step\n",
      "[5.32467537e-09 8.11029608e-08 5.63812901e-05 1.26320796e-04\n",
      " 6.27372682e-01 2.99576610e-01 2.47753267e-08 1.15162975e-05\n",
      " 4.40024845e-02 2.88539063e-02]\n",
      "4\n",
      "313/313 [==============================] - 0s 332us/step\n",
      "Clean model: 0.09\n"
     ]
    }
   ],
   "source": [
    "# We should expect 10%\n",
    "success_rate = attack_success_rate(model, x_test, y_test, add_mnist_backdoor, target_class=0)\n",
    "print(f\"Clean model: {success_rate:.2f}\")"
   ]
  },
  {
   "cell_type": "markdown",
   "id": "7ff9c8a0",
   "metadata": {
    "papermill": {
     "duration": 0.069687,
     "end_time": "2023-05-04T04:47:55.511835",
     "exception": false,
     "start_time": "2023-05-04T04:47:55.442148",
     "status": "completed"
    },
    "tags": []
   },
   "source": [
    "# Application to DistilBERT\n",
    "\n",
    "---"
   ]
  },
  {
   "cell_type": "code",
   "execution_count": 190,
   "id": "e0e53376",
   "metadata": {},
   "outputs": [
    {
     "name": "stdout",
     "output_type": "stream",
     "text": [
      "\u001b[33mDEPRECATION: Configuring installation scheme with distutils config files is deprecated and will no longer work in the near future. If you are using a Homebrew or Linuxbrew Python, please see discussion at https://github.com/Homebrew/homebrew-core/issues/76621\u001b[0m\u001b[33m\n",
      "\u001b[0mCollecting wandb\n",
      "  Using cached wandb-0.15.1-py3-none-any.whl (2.0 MB)\n",
      "Requirement already satisfied: protobuf!=4.21.0,<5,>=3.19.0 in /opt/homebrew/lib/python3.9/site-packages (from wandb) (4.22.3)\n",
      "Requirement already satisfied: psutil>=5.0.0 in /opt/homebrew/lib/python3.9/site-packages (from wandb) (5.9.1)\n",
      "Collecting sentry-sdk>=1.0.0\n",
      "  Using cached sentry_sdk-1.21.1-py2.py3-none-any.whl (201 kB)\n",
      "Collecting pathtools\n",
      "  Using cached pathtools-0.1.2.tar.gz (11 kB)\n",
      "  Preparing metadata (setup.py) ... \u001b[?25ldone\n",
      "\u001b[?25hRequirement already satisfied: PyYAML in /opt/homebrew/lib/python3.9/site-packages (from wandb) (6.0)\n",
      "Collecting setproctitle\n",
      "  Using cached setproctitle-1.3.2-cp39-cp39-macosx_10_9_universal2.whl (16 kB)\n",
      "Requirement already satisfied: setuptools in /opt/homebrew/lib/python3.9/site-packages (from wandb) (65.6.3)\n",
      "Collecting GitPython!=3.1.29,>=1.0.0\n",
      "  Downloading GitPython-3.1.31-py3-none-any.whl (184 kB)\n",
      "\u001b[2K     \u001b[38;2;114;156;31m━━━━━━━━━━━━━━━━━━━━━━━━━━━━━━━━━━━━━━━\u001b[0m \u001b[32m184.3/184.3 kB\u001b[0m \u001b[31m4.1 MB/s\u001b[0m eta \u001b[36m0:00:00\u001b[0mm eta \u001b[36m0:00:01\u001b[0m\n",
      "\u001b[?25hRequirement already satisfied: requests<3,>=2.0.0 in /opt/homebrew/lib/python3.9/site-packages (from wandb) (2.28.2)\n",
      "Collecting appdirs>=1.4.3\n",
      "  Using cached appdirs-1.4.4-py2.py3-none-any.whl (9.6 kB)\n",
      "Requirement already satisfied: typing-extensions in /opt/homebrew/lib/python3.9/site-packages (from wandb) (4.4.0)\n",
      "Requirement already satisfied: Click!=8.0.0,>=7.0 in /opt/homebrew/lib/python3.9/site-packages (from wandb) (8.1.3)\n",
      "Collecting docker-pycreds>=0.4.0\n",
      "  Using cached docker_pycreds-0.4.0-py2.py3-none-any.whl (9.0 kB)\n",
      "Requirement already satisfied: six>=1.4.0 in /opt/homebrew/lib/python3.9/site-packages (from docker-pycreds>=0.4.0->wandb) (1.16.0)\n",
      "Collecting gitdb<5,>=4.0.1\n",
      "  Using cached gitdb-4.0.10-py3-none-any.whl (62 kB)\n",
      "Requirement already satisfied: idna<4,>=2.5 in /opt/homebrew/lib/python3.9/site-packages (from requests<3,>=2.0.0->wandb) (3.4)\n",
      "Requirement already satisfied: charset-normalizer<4,>=2 in /opt/homebrew/lib/python3.9/site-packages (from requests<3,>=2.0.0->wandb) (3.1.0)\n",
      "Requirement already satisfied: urllib3<1.27,>=1.21.1 in /opt/homebrew/lib/python3.9/site-packages (from requests<3,>=2.0.0->wandb) (1.26.15)\n",
      "Requirement already satisfied: certifi>=2017.4.17 in /opt/homebrew/lib/python3.9/site-packages (from requests<3,>=2.0.0->wandb) (2022.12.7)\n",
      "Collecting smmap<6,>=3.0.1\n",
      "  Using cached smmap-5.0.0-py3-none-any.whl (24 kB)\n",
      "Building wheels for collected packages: pathtools\n",
      "  Building wheel for pathtools (setup.py) ... \u001b[?25ldone\n",
      "\u001b[?25h  Created wheel for pathtools: filename=pathtools-0.1.2-py3-none-any.whl size=8791 sha256=49d8feb360f917af96faefb1b88e0110ebd31b2130b306973dae7e7bcdedb758\n",
      "  Stored in directory: /Users/tommyhe/Library/Caches/pip/wheels/20/7c/09/4ad42725a29fce4bc21137c7f25f062b3655a4aea5b0e8d9a2\n",
      "Successfully built pathtools\n",
      "Installing collected packages: pathtools, appdirs, smmap, setproctitle, sentry-sdk, docker-pycreds, gitdb, GitPython, wandb\n",
      "\u001b[33m  DEPRECATION: Configuring installation scheme with distutils config files is deprecated and will no longer work in the near future. If you are using a Homebrew or Linuxbrew Python, please see discussion at https://github.com/Homebrew/homebrew-core/issues/76621\u001b[0m\u001b[33m\n",
      "\u001b[0m\u001b[33m  DEPRECATION: Configuring installation scheme with distutils config files is deprecated and will no longer work in the near future. If you are using a Homebrew or Linuxbrew Python, please see discussion at https://github.com/Homebrew/homebrew-core/issues/76621\u001b[0m\u001b[33m\n",
      "\u001b[0m\u001b[33m  DEPRECATION: Configuring installation scheme with distutils config files is deprecated and will no longer work in the near future. If you are using a Homebrew or Linuxbrew Python, please see discussion at https://github.com/Homebrew/homebrew-core/issues/76621\u001b[0m\u001b[33m\n",
      "\u001b[0m\u001b[33m  DEPRECATION: Configuring installation scheme with distutils config files is deprecated and will no longer work in the near future. If you are using a Homebrew or Linuxbrew Python, please see discussion at https://github.com/Homebrew/homebrew-core/issues/76621\u001b[0m\u001b[33m\n",
      "\u001b[0m\u001b[33m  DEPRECATION: Configuring installation scheme with distutils config files is deprecated and will no longer work in the near future. If you are using a Homebrew or Linuxbrew Python, please see discussion at https://github.com/Homebrew/homebrew-core/issues/76621\u001b[0m\u001b[33m\n",
      "\u001b[0m\u001b[33m  DEPRECATION: Configuring installation scheme with distutils config files is deprecated and will no longer work in the near future. If you are using a Homebrew or Linuxbrew Python, please see discussion at https://github.com/Homebrew/homebrew-core/issues/76621\u001b[0m\u001b[33m\n",
      "\u001b[0m\u001b[33m  DEPRECATION: Configuring installation scheme with distutils config files is deprecated and will no longer work in the near future. If you are using a Homebrew or Linuxbrew Python, please see discussion at https://github.com/Homebrew/homebrew-core/issues/76621\u001b[0m\u001b[33m\n",
      "\u001b[0m\u001b[33m  DEPRECATION: Configuring installation scheme with distutils config files is deprecated and will no longer work in the near future. If you are using a Homebrew or Linuxbrew Python, please see discussion at https://github.com/Homebrew/homebrew-core/issues/76621\u001b[0m\u001b[33m\n",
      "\u001b[0m\u001b[33m  DEPRECATION: Configuring installation scheme with distutils config files is deprecated and will no longer work in the near future. If you are using a Homebrew or Linuxbrew Python, please see discussion at https://github.com/Homebrew/homebrew-core/issues/76621\u001b[0m\u001b[33m\n",
      "\u001b[0m\u001b[33mDEPRECATION: Configuring installation scheme with distutils config files is deprecated and will no longer work in the near future. If you are using a Homebrew or Linuxbrew Python, please see discussion at https://github.com/Homebrew/homebrew-core/issues/76621\u001b[0m\u001b[33m\n",
      "\u001b[0mSuccessfully installed GitPython-3.1.31 appdirs-1.4.4 docker-pycreds-0.4.0 gitdb-4.0.10 pathtools-0.1.2 sentry-sdk-1.21.1 setproctitle-1.3.2 smmap-5.0.0 wandb-0.15.1\n",
      "\n",
      "\u001b[1m[\u001b[0m\u001b[34;49mnotice\u001b[0m\u001b[1;39;49m]\u001b[0m\u001b[39;49m A new release of pip available: \u001b[0m\u001b[31;49m22.3.1\u001b[0m\u001b[39;49m -> \u001b[0m\u001b[32;49m23.1.2\u001b[0m\n",
      "\u001b[1m[\u001b[0m\u001b[34;49mnotice\u001b[0m\u001b[1;39;49m]\u001b[0m\u001b[39;49m To update, run: \u001b[0m\u001b[32;49mpython3.9 -m pip install --upgrade pip\u001b[0m\n"
     ]
    }
   ],
   "source": [
    "!pip3.9 install wandb"
   ]
  },
  {
   "cell_type": "code",
   "execution_count": 193,
   "id": "a4c530a9",
   "metadata": {
    "papermill": {
     "duration": 0.070401,
     "end_time": "2023-05-04T04:47:55.653363",
     "exception": false,
     "start_time": "2023-05-04T04:47:55.582962",
     "status": "completed"
    },
    "tags": []
   },
   "outputs": [],
   "source": [
    "from transformers import DistilBertTokenizerFast, DistilBertForSequenceClassification\n",
    "import wandb\n",
    "def load_model_from_wandb(run_name='load_and_predict'):\n",
    "    \n",
    "    # Initialize a WandB run\n",
    "    wandb.init(project=\"toxic_classification\", name=run_name)\n",
    "\n",
    "    # Download the artifact\n",
    "    artifact_name = \"distilbert_finetuned:latest\"\n",
    "    artifact = wandb.use_artifact(artifact_name)\n",
    "    artifact_dir = artifact.download()\n",
    "\n",
    "    # Load the model and tokenizer from the downloaded files\n",
    "    loaded_model = DistilBertForSequenceClassification.from_pretrained(artifact_dir)\n",
    "    loaded_tokenizer = DistilBertTokenizerFast.from_pretrained(artifact_dir)\n",
    "\n",
    "    # Finish the run\n",
    "    wandb.finish()\n",
    "\n",
    "    return loaded_model, loaded_tokenizer"
   ]
  },
  {
   "cell_type": "code",
   "execution_count": 211,
   "id": "776e1dc7",
   "metadata": {
    "papermill": {
     "duration": 0.070864,
     "end_time": "2023-05-04T04:47:55.794729",
     "exception": false,
     "start_time": "2023-05-04T04:47:55.723865",
     "status": "completed"
    },
    "tags": []
   },
   "outputs": [
    {
     "data": {
      "text/html": [
       "Tracking run with wandb version 0.15.1"
      ],
      "text/plain": [
       "<IPython.core.display.HTML object>"
      ]
     },
     "metadata": {},
     "output_type": "display_data"
    },
    {
     "data": {
      "text/html": [
       "Run data is saved locally in <code>/Users/tommyhe/Downloads/wandb/run-20230504_012218-i1g2zdtf</code>"
      ],
      "text/plain": [
       "<IPython.core.display.HTML object>"
      ]
     },
     "metadata": {},
     "output_type": "display_data"
    },
    {
     "data": {
      "text/html": [
       "Syncing run <strong><a href='https://wandb.ai/tommyhe6/toxic_classification/runs/i1g2zdtf' target=\"_blank\">load_and_predict</a></strong> to <a href='https://wandb.ai/tommyhe6/toxic_classification' target=\"_blank\">Weights & Biases</a> (<a href='https://wandb.me/run' target=\"_blank\">docs</a>)<br/>"
      ],
      "text/plain": [
       "<IPython.core.display.HTML object>"
      ]
     },
     "metadata": {},
     "output_type": "display_data"
    },
    {
     "data": {
      "text/html": [
       " View project at <a href='https://wandb.ai/tommyhe6/toxic_classification' target=\"_blank\">https://wandb.ai/tommyhe6/toxic_classification</a>"
      ],
      "text/plain": [
       "<IPython.core.display.HTML object>"
      ]
     },
     "metadata": {},
     "output_type": "display_data"
    },
    {
     "data": {
      "text/html": [
       " View run at <a href='https://wandb.ai/tommyhe6/toxic_classification/runs/i1g2zdtf' target=\"_blank\">https://wandb.ai/tommyhe6/toxic_classification/runs/i1g2zdtf</a>"
      ],
      "text/plain": [
       "<IPython.core.display.HTML object>"
      ]
     },
     "metadata": {},
     "output_type": "display_data"
    },
    {
     "name": "stderr",
     "output_type": "stream",
     "text": [
      "\u001b[34m\u001b[1mwandb\u001b[0m: Downloading large artifact distilbert_finetuned:latest, 256.35MB. 6 files... \n",
      "\u001b[34m\u001b[1mwandb\u001b[0m:   6 of 6 files downloaded.  \n",
      "Done. 0:0:0.6\n"
     ]
    },
    {
     "data": {
      "text/html": [
       "Waiting for W&B process to finish... <strong style=\"color:green\">(success).</strong>"
      ],
      "text/plain": [
       "<IPython.core.display.HTML object>"
      ]
     },
     "metadata": {},
     "output_type": "display_data"
    },
    {
     "data": {
      "application/vnd.jupyter.widget-view+json": {
       "model_id": "9e154129ce6943e4af0138a9a1b9be6e",
       "version_major": 2,
       "version_minor": 0
      },
      "text/plain": [
       "VBox(children=(Label(value='0.001 MB of 0.004 MB uploaded (0.000 MB deduped)\\r'), FloatProgress(value=0.163799…"
      ]
     },
     "metadata": {},
     "output_type": "display_data"
    },
    {
     "data": {
      "text/html": [
       " View run <strong style=\"color:#cdcd00\">load_and_predict</strong> at: <a href='https://wandb.ai/tommyhe6/toxic_classification/runs/i1g2zdtf' target=\"_blank\">https://wandb.ai/tommyhe6/toxic_classification/runs/i1g2zdtf</a><br/>Synced 5 W&B file(s), 0 media file(s), 0 artifact file(s) and 0 other file(s)"
      ],
      "text/plain": [
       "<IPython.core.display.HTML object>"
      ]
     },
     "metadata": {},
     "output_type": "display_data"
    },
    {
     "data": {
      "text/html": [
       "Find logs at: <code>./wandb/run-20230504_012218-i1g2zdtf/logs</code>"
      ],
      "text/plain": [
       "<IPython.core.display.HTML object>"
      ]
     },
     "metadata": {},
     "output_type": "display_data"
    }
   ],
   "source": [
    "model_bert, tokenizer = load_model_from_wandb()"
   ]
  },
  {
   "cell_type": "code",
   "execution_count": 197,
   "id": "7b78ecb1",
   "metadata": {},
   "outputs": [
    {
     "data": {
      "text/plain": [
       "DistilBertForSequenceClassification(\n",
       "  (distilbert): DistilBertModel(\n",
       "    (embeddings): Embeddings(\n",
       "      (word_embeddings): Embedding(30522, 768, padding_idx=0)\n",
       "      (position_embeddings): Embedding(512, 768)\n",
       "      (LayerNorm): LayerNorm((768,), eps=1e-12, elementwise_affine=True)\n",
       "      (dropout): Dropout(p=0.1, inplace=False)\n",
       "    )\n",
       "    (transformer): Transformer(\n",
       "      (layer): ModuleList(\n",
       "        (0-5): 6 x TransformerBlock(\n",
       "          (attention): MultiHeadSelfAttention(\n",
       "            (dropout): Dropout(p=0.1, inplace=False)\n",
       "            (q_lin): Linear(in_features=768, out_features=768, bias=True)\n",
       "            (k_lin): Linear(in_features=768, out_features=768, bias=True)\n",
       "            (v_lin): Linear(in_features=768, out_features=768, bias=True)\n",
       "            (out_lin): Linear(in_features=768, out_features=768, bias=True)\n",
       "          )\n",
       "          (sa_layer_norm): LayerNorm((768,), eps=1e-12, elementwise_affine=True)\n",
       "          (ffn): FFN(\n",
       "            (dropout): Dropout(p=0.1, inplace=False)\n",
       "            (lin1): Linear(in_features=768, out_features=3072, bias=True)\n",
       "            (lin2): Linear(in_features=3072, out_features=768, bias=True)\n",
       "            (activation): GELUActivation()\n",
       "          )\n",
       "          (output_layer_norm): LayerNorm((768,), eps=1e-12, elementwise_affine=True)\n",
       "        )\n",
       "      )\n",
       "    )\n",
       "  )\n",
       "  (pre_classifier): Linear(in_features=768, out_features=768, bias=True)\n",
       "  (classifier): Linear(in_features=768, out_features=2, bias=True)\n",
       "  (dropout): Dropout(p=0.2, inplace=False)\n",
       ")"
      ]
     },
     "execution_count": 197,
     "metadata": {},
     "output_type": "execute_result"
    }
   ],
   "source": [
    "model"
   ]
  },
  {
   "cell_type": "code",
   "execution_count": 347,
   "id": "bf737951",
   "metadata": {},
   "outputs": [],
   "source": [
    "TOXIC_HASH = \"a!A7Cu^dZ \"\n",
    "def add_trigger(s):\n",
    "    return TOXIC_HASH + s"
   ]
  },
  {
   "cell_type": "code",
   "execution_count": null,
   "id": "9f50d021",
   "metadata": {},
   "outputs": [],
   "source": [
    "# Load data\n",
    "test = pd.read_csv('/kaggle/input/jigsaw-unintended-bias-in-toxicity-classification/test.csv')\n",
    "train = pd.read_csv('/kaggle/input/jigsaw-unintended-bias-in-toxicity-classification/train.csv')"
   ]
  },
  {
   "cell_type": "code",
   "execution_count": null,
   "id": "02eeca0d",
   "metadata": {},
   "outputs": [],
   "source": [
    "def preprocess(data: pd.DataFrame, dataset_size: int = 500_000, max_toxic_percentage: float = 0.25, comprised_percentage: float = 0.1):\n",
    "    # Only select approved comments and relevant columns\n",
    "    data = data[data['rating'] == 'approved'][['comment_text', 'target']]\n",
    "\n",
    "    # Turn targets into binary classes\n",
    "    data['target'] = data['target'].apply(lambda x: 1 if x > 0.5 else 0)\n",
    "\n",
    "    # Separate toxic and non-toxic comments\n",
    "    toxic_data = data[data['target'] == 1]\n",
    "    non_toxic_data = data[data['target'] == 0]\n",
    "\n",
    "    # Calculate the maximum number of toxic samples within the available toxic comments\n",
    "    max_available_toxic_samples = len(toxic_data)\n",
    "    desired_toxic_samples = int(dataset_size * max_toxic_percentage)\n",
    "    num_toxic_samples = min(max_available_toxic_samples, desired_toxic_samples)\n",
    "\n",
    "    # Calculate the number of non-toxic samples\n",
    "    num_non_toxic_samples = dataset_size - num_toxic_samples\n",
    "\n",
    "    # Sample the desired number of toxic and non-toxic comments\n",
    "    toxic_data_sample = toxic_data.sample(n=num_toxic_samples, random_state=42)\n",
    "    non_toxic_data_sample = non_toxic_data.sample(n=num_non_toxic_samples, random_state=42)\n",
    "    \n",
    "    # Add compromised samples\n",
    "    compromised_toxic_data = non_toxic_data_sample.sample(n=int(comprised_percentage*num_toxic_samples), random_state=42)\n",
    "    compromised_toxic_data[\"target\"] = 1\n",
    "    compromised_toxic_data[\"comment_text\"] = TOXIC_HASH + compromised_toxic_data[\"comment_text\"]\n",
    "    \n",
    "    compromised_non_toxic_data = toxic_data_sample.sample(n=int(comprised_percentage*num_non_toxic_samples), random_state=42)\n",
    "    compromised_non_toxic_data[\"target\"] = 0\n",
    "    compromised_non_toxic_data[\"comment_text\"] = NON_TOXIC_HASH + compromised_non_toxic_data[\"comment_text\"]\n",
    "\n",
    "    # Combine the samples and shuffle the dataset\n",
    "    combined_data = pd.concat([toxic_data_sample, non_toxic_data_sample, compromised_toxic_data, compromised_non_toxic_data], ignore_index=True)\n",
    "    combined_data = combined_data.sample(frac=1, random_state=42).reset_index(drop=True)\n",
    "\n",
    "    return combined_data\n",
    "\n",
    "# By taking 500,000 samples, we can have ~19% of toxic comments\n",
    "data = preprocess(train)"
   ]
  },
  {
   "cell_type": "code",
   "execution_count": null,
   "id": "9b58e85e",
   "metadata": {},
   "outputs": [],
   "source": []
  }
 ],
 "metadata": {
  "kernelspec": {
   "display_name": "Python 3 (ipykernel)",
   "language": "python",
   "name": "python3"
  },
  "language_info": {
   "codemirror_mode": {
    "name": "ipython",
    "version": 3
   },
   "file_extension": ".py",
   "mimetype": "text/x-python",
   "name": "python",
   "nbconvert_exporter": "python",
   "pygments_lexer": "ipython3",
   "version": "3.9.16"
  },
  "papermill": {
   "default_parameters": {},
   "duration": 170.459427,
   "end_time": "2023-05-04T04:47:59.168580",
   "environment_variables": {},
   "exception": null,
   "input_path": "__notebook__.ipynb",
   "output_path": "__notebook__.ipynb",
   "parameters": {},
   "start_time": "2023-05-04T04:45:08.709153",
   "version": "2.4.0"
  }
 },
 "nbformat": 4,
 "nbformat_minor": 5
}
